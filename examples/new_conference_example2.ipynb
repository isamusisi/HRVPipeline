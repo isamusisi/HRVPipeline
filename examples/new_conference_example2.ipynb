{
 "cells": [
  {
   "cell_type": "markdown",
   "metadata": {},
   "source": [
    "# Example notebook 2\n",
    "\n",
    "This notebook sketches the analysis of a finger tapping dataset with multiple subjects. A simple Linear Discriminant Analysis (LDA) classifier is trained to distinguish left and right fingertapping."
   ]
  },
  {
   "cell_type": "code",
   "execution_count": null,
   "metadata": {},
   "outputs": [],
   "source": [
    "import cedalion\n",
    "import cedalion.nirs\n",
    "import cedalion.xrutils as xrutils\n",
    "from cedalion.datasets import get_multisubject_fingertapping_snirf_paths\n",
    "import numpy as np\n",
    "import xarray as xr\n",
    "import pint\n",
    "import matplotlib.pyplot as p\n",
    "import scipy.signal\n",
    "import os.path\n",
    "\n",
    "from sklearn.preprocessing import StandardScaler, LabelEncoder\n",
    "from sklearn.discriminant_analysis import LinearDiscriminantAnalysis\n",
    "from sklearn.model_selection import train_test_split, cross_validate\n",
    "from sklearn.metrics import accuracy_score\n",
    "\n",
    "xr.set_options(display_max_rows=3, display_values_threshold=50)\n",
    "np.set_printoptions(precision=4)"
   ]
  },
  {
   "cell_type": "markdown",
   "metadata": {},
   "source": [
    "### Loading raw CW-NIRS data from a SNIRF file\n",
    "\n",
    "This notebook uses a finger-tapping dataset in BIDS layout provided by [Rob Luke](https://github.com/rob-luke/BIDS-NIRS-Tapping). It can can be downloaded via `cedalion.datasets`."
   ]
  },
  {
   "cell_type": "markdown",
   "metadata": {},
   "source": [
    "xarray provides another container: `xr.DataSet`. These are collections of `xr.DataArray` that share coordinate axes. These can be used to group different arrays with shared coordinate axes together."
   ]
  },
  {
   "cell_type": "code",
   "execution_count": null,
   "metadata": {},
   "outputs": [],
   "source": [
    "fnames = get_multisubject_fingertapping_snirf_paths()\n",
    "subjects  = [f\"sub-{i:02d}\" for i in [1,2,3,4,5]]\n",
    "\n",
    "# store data of different subjects in a dictionary\n",
    "data = {} \n",
    "for subject,fname in zip(subjects, fnames):\n",
    "    \n",
    "    elements = cedalion.io.read_snirf(fname)\n",
    "\n",
    "    amp = elements[0].data[0]\n",
    "    stim = elements[0].stim # pandas Dataframe\n",
    "    geo3d = elements[0].geo3d\n",
    "    \n",
    "    # cedalion registers an accessor (attribute .cd ) on pandas DataFrames\n",
    "    stim.cd.rename_events( {\n",
    "        \"1.0\" : \"control\",\n",
    "        \"2.0\" : \"Tapping/Left\",\n",
    "        \"3.0\" : \"Tapping/Right\"\n",
    "    })\n",
    "    \n",
    "    dpf = xr.DataArray([6, 6], dims=\"wavelength\", coords={\"wavelength\" : amp.wavelength})\n",
    "    \n",
    "    data[subject] = xr.Dataset(\n",
    "        data_vars = {\n",
    "            \"amp\" : amp,\n",
    "            \"od\"  : - np.log( amp / amp.mean(\"time\") ),\n",
    "            \"geo\" : geo3d,\n",
    "            \"conc\": cedalion.nirs.beer_lambert(amp, geo3d, dpf)\n",
    "        },\n",
    "        attrs={\"stim\" : stim}, # store stimulus data in attrs\n",
    "        coords={\"subject\" : subject} # add the subject label as a coordinate\n",
    "    )"
   ]
  },
  {
   "cell_type": "markdown",
   "metadata": {},
   "source": [
    "Illustrate the dataset of one subject"
   ]
  },
  {
   "cell_type": "code",
   "execution_count": null,
   "metadata": {},
   "outputs": [],
   "source": [
    "display(data[\"sub-01\"])"
   ]
  },
  {
   "cell_type": "markdown",
   "metadata": {},
   "source": [
    "### Frequency filtering and splitting into epochs"
   ]
  },
  {
   "cell_type": "code",
   "execution_count": null,
   "metadata": {},
   "outputs": [],
   "source": [
    "for subject, ds in data.items():\n",
    "    # cedalion registers the accessor .cd on DataArrays\n",
    "    # to provide common functionality like frequency filters...\n",
    "    ds[\"conc_freqfilt\"] = ds[\"conc\"].cd.freq_filter(fmin=0.02, fmax=0.5, butter_order=4)\n",
    "\n",
    "    # ... or epoch splitting\n",
    "    ds[\"cfepochs\"] = ds[\"conc_freqfilt\"].cd.to_epochs(\n",
    "        ds.attrs[\"stim\"], # stimulus dataframe\n",
    "        [\"Tapping/Left\", \"Tapping/Right\"],  # select events\n",
    "        before=5, # seconds before stimulus\n",
    "        after=20  # seconds after stimulus\n",
    "    )"
   ]
  },
  {
   "cell_type": "markdown",
   "metadata": {},
   "source": [
    "### Plot frequency filtered data\n",
    "Illustrate for a single subject and channel the effect of the bandpass filter."
   ]
  },
  {
   "cell_type": "code",
   "execution_count": null,
   "metadata": {},
   "outputs": [],
   "source": [
    "ds = data[\"sub-01\"]\n",
    "channel = \"S5D7\"\n",
    "\n",
    "f,ax= p.subplots(2,1, figsize=(12,4), sharex=True)\n",
    "ax[0].plot(ds.time, ds.conc.sel(channel=channel, chromo=\"HbO\"), \"r-\", label=\"HbO\")\n",
    "ax[0].plot(ds.time, ds.conc.sel(channel=channel, chromo=\"HbR\"), \"b-\", label=\"HbR\")\n",
    "ax[1].plot(ds.time, ds.conc_freqfilt.sel(channel=channel, chromo=\"HbO\"), \"r-\", label=\"HbO\")\n",
    "ax[1].plot(ds.time, ds.conc_freqfilt.sel(channel=channel, chromo=\"HbR\"), \"b-\", label=\"HbR\")\n",
    "ax[0].set_xlim(1000,1200)\n",
    "ax[1].set_xlabel(\"time / s\")\n",
    "ax[0].set_ylabel(\"$\\Delta c$ / $\\mu M$\")\n",
    "ax[1].set_ylabel(\"$\\Delta c$ / $\\mu M$\")\n",
    "ax[0].legend(loc=\"upper left\"); ax[1].legend(loc=\"upper left\");"
   ]
  },
  {
   "cell_type": "code",
   "execution_count": null,
   "metadata": {
    "scrolled": false
   },
   "outputs": [],
   "source": [
    "display(data[\"sub-01\"][\"cfepochs\"])"
   ]
  },
  {
   "cell_type": "code",
   "execution_count": null,
   "metadata": {
    "scrolled": false
   },
   "outputs": [],
   "source": [
    "all_epochs = xr.concat([ds[\"cfepochs\"] for ds in data.values()], dim=\"epoch\")\n",
    "all_epochs"
   ]
  },
  {
   "cell_type": "markdown",
   "metadata": {},
   "source": [
    "### Block Averages"
   ]
  },
  {
   "cell_type": "code",
   "execution_count": null,
   "metadata": {},
   "outputs": [],
   "source": [
    "# calculate baseline\n",
    "baseline = all_epochs.sel(reltime=(all_epochs.reltime < 0)).mean(\"reltime\")\n",
    "# subtract baseline\n",
    "all_epochs_blcorrected = all_epochs - baseline\n",
    "\n",
    "# group trials by trial_type. For each group individually average the epoch dimension\n",
    "blockaverage = all_epochs_blcorrected.groupby(\"trial_type\").mean(\"epoch\")"
   ]
  },
  {
   "cell_type": "markdown",
   "metadata": {},
   "source": [
    "Plotting averaged epochs"
   ]
  },
  {
   "cell_type": "code",
   "execution_count": null,
   "metadata": {},
   "outputs": [],
   "source": [
    "f,ax = p.subplots(5,6, figsize=(12,10))\n",
    "ax = ax.flatten()\n",
    "for i_ch, ch in enumerate(blockaverage.channel):\n",
    "    for ls, trial_type in zip([\"-\", \"--\"], blockaverage.trial_type):    \n",
    "        ax[i_ch].plot(blockaverage.reltime, blockaverage.sel(chromo=\"HbO\", trial_type=trial_type, channel=ch), \"r\", lw=2, ls=ls)\n",
    "        ax[i_ch].plot(blockaverage.reltime, blockaverage.sel(chromo=\"HbR\", trial_type=trial_type, channel=ch), \"b\", lw=2, ls=ls)\n",
    "    ax[i_ch].grid(1)\n",
    "    ax[i_ch].set_title(ch.values)\n",
    "    ax[i_ch].set_ylim(-.3, .6)\n",
    "    \n",
    "p.tight_layout()"
   ]
  },
  {
   "cell_type": "markdown",
   "metadata": {},
   "source": [
    "### Training a LDA classifier with Scikit-Learn"
   ]
  },
  {
   "cell_type": "code",
   "execution_count": null,
   "metadata": {},
   "outputs": [],
   "source": [
    "# start with the frequency-filtered, epoched and baseline-corrected concentration data\n",
    "# discard the samples before the stimulus onset\n",
    "epochs = all_epochs_blcorrected.sel(reltime=all_epochs_blcorrected.reltime >=0)\n",
    "# strip units. sklearn would strip them anyway and issue a warning about it.\n",
    "epochs = epochs.pint.dequantify()\n",
    "\n",
    "# need to manually tell xarray to create an index for trial_type\n",
    "epochs = epochs.set_xindex(\"trial_type\")"
   ]
  },
  {
   "cell_type": "code",
   "execution_count": null,
   "metadata": {},
   "outputs": [],
   "source": [
    "display(epochs)"
   ]
  },
  {
   "cell_type": "code",
   "execution_count": null,
   "metadata": {},
   "outputs": [],
   "source": [
    "X = epochs.stack(features=[\"chromo\", \"channel\", \"reltime\"])\n",
    "display(X)"
   ]
  },
  {
   "cell_type": "code",
   "execution_count": null,
   "metadata": {},
   "outputs": [],
   "source": [
    "y = xr.apply_ufunc(LabelEncoder().fit_transform, X.trial_type)\n",
    "display(y)"
   ]
  },
  {
   "cell_type": "code",
   "execution_count": null,
   "metadata": {},
   "outputs": [],
   "source": [
    "X_train, X_test, y_train, y_test = train_test_split(X, y, test_size=.3, stratify=y)\n",
    "classifier = LinearDiscriminantAnalysis(n_components=1).fit(X_train, y_train)\n",
    "y_pred = classifier.predict(X_test)\n",
    "print(f\"Accuracy: {accuracy_score(y_test, y_pred)}\")"
   ]
  },
  {
   "cell_type": "code",
   "execution_count": null,
   "metadata": {},
   "outputs": [],
   "source": [
    "f,ax = p.subplots(1,2, figsize=(12,3))\n",
    "for trial_type, c in zip([\"Tapping/Left\", \"Tapping/Right\"], [\"r\", \"g\"]):\n",
    "    kw  = dict(alpha=.5, fc=c, label=trial_type)\n",
    "    ax[0].hist(classifier.decision_function(X_train.sel(trial_type=trial_type)),**kw)\n",
    "    ax[1].hist(classifier.decision_function(X_test.sel(trial_type=trial_type)), **kw)\n",
    "\n",
    "ax[0].set_xlabel(\"LDA score\"); ax[1].set_xlabel(\"LDA score\"); ax[0].set_title(\"train\"); ax[1].set_title(\"test\"); ax[0].legend(ncol=1,loc=\"upper left\"); ax[1].legend(ncol=1, loc=\"upper left\");"
   ]
  },
  {
   "cell_type": "code",
   "execution_count": null,
   "metadata": {},
   "outputs": [],
   "source": []
  }
 ],
 "metadata": {
  "kernelspec": {
   "display_name": "Python 3 (ipykernel)",
   "language": "python",
   "name": "python3"
  },
  "language_info": {
   "codemirror_mode": {
    "name": "ipython",
    "version": 3
   },
   "file_extension": ".py",
   "mimetype": "text/x-python",
   "name": "python",
   "nbconvert_exporter": "python",
   "pygments_lexer": "ipython3",
   "version": "3.10.13"
  }
 },
 "nbformat": 4,
 "nbformat_minor": 2
}
